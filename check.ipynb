{
 "cells": [
  {
   "cell_type": "code",
   "execution_count": null,
   "id": "b1a9ea69",
   "metadata": {
    "vscode": {
     "languageId": "plaintext"
    }
   },
   "outputs": [],
   "source": [
    "from db import get_mysql_connection\n",
    "\n",
    "conn = get_mysql_connection()\n",
    "cursor = conn.cursor()\n",
    "cursor.execute(\"SELECT DATABASE();\")\n",
    "print(cursor.fetchone())  # should print ('company_db',)\n",
    "cursor.close()\n",
    "conn.close()\n"
   ]
  }
 ],
 "metadata": {
  "language_info": {
   "name": "python"
  }
 },
 "nbformat": 4,
 "nbformat_minor": 5
}
